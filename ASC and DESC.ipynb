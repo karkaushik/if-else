{
  "nbformat": 4,
  "nbformat_minor": 0,
  "metadata": {
    "colab": {
      "provenance": [],
      "authorship_tag": "ABX9TyPutlD5SJ8i1VcY5yxQBIlx",
      "include_colab_link": true
    },
    "kernelspec": {
      "name": "python3",
      "display_name": "Python 3"
    },
    "language_info": {
      "name": "python"
    }
  },
  "cells": [
    {
      "cell_type": "markdown",
      "metadata": {
        "id": "view-in-github",
        "colab_type": "text"
      },
      "source": [
        "<a href=\"https://colab.research.google.com/github/karkaushik/if-else/blob/main/ASC%20and%20DESC.ipynb\" target=\"_parent\"><img src=\"https://colab.research.google.com/assets/colab-badge.svg\" alt=\"Open In Colab\"/></a>"
      ]
    },
    {
      "cell_type": "markdown",
      "source": [
        "ASC and DESC"
      ],
      "metadata": {
        "id": "zcmtYEMnLAPZ"
      }
    },
    {
      "cell_type": "code",
      "execution_count": 11,
      "metadata": {
        "id": "WJxbnvW7Kznf"
      },
      "outputs": [],
      "source": [
        "# when you have a listb and find out the sorted one\n",
        "l=[4,6,2,8,7,5,1]\n",
        "\n"
      ]
    },
    {
      "cell_type": "code",
      "source": [
        "for i in range(0,len(l)-1):\n",
        "  for j in range(i+1,len(l)):\n",
        "    if (l[i]>l[j]):\n",
        "      temp=l[i]\n",
        "      l[i]=l[j]\n",
        "      l[j]=temp\n",
        "\n",
        "  print(l)   \n",
        "print(\"sorted list\")  \n",
        "print(l)     "
      ],
      "metadata": {
        "colab": {
          "base_uri": "https://localhost:8080/"
        },
        "id": "5TfbNsb3pUja",
        "outputId": "2d6a1a5b-5270-404a-94f5-57f7922c70b1"
      },
      "execution_count": 14,
      "outputs": [
        {
          "output_type": "stream",
          "name": "stdout",
          "text": [
            "[1, 6, 4, 8, 7, 5, 2]\n",
            "[1, 2, 6, 8, 7, 5, 4]\n",
            "[1, 2, 4, 8, 7, 6, 5]\n",
            "[1, 2, 4, 5, 8, 7, 6]\n",
            "[1, 2, 4, 5, 6, 8, 7]\n",
            "[1, 2, 4, 5, 6, 7, 8]\n",
            "sorted list\n",
            "[1, 2, 4, 5, 6, 7, 8]\n"
          ]
        }
      ]
    },
    {
      "cell_type": "code",
      "source": [
        "# now take input from the user and then sort the list\n",
        "l=[]\n",
        "final_size=int(input(\"enter the number of the element:\"))\n",
        "for k in range(0,final_size):\n",
        "  ele=int(input(\"enter the elements:\"))\n",
        "  l.append(ele)\n",
        "\n",
        "for i in range(0,len(l)-1):\n",
        "  for j in range(i+1,len(l)):\n",
        "    if (l[i]>l[j]):\n",
        "      temp=l[i]    #instead of swaping like \n",
        "      l[i]=l[j]    #this you can also put it as \n",
        "      l[j]=temp    #l[i],l[j]=l[j],l[i]\n",
        "\n",
        "  print(l)   \n",
        "print(\"sorted list\")\n",
        "print(l)\n",
        "    "
      ],
      "metadata": {
        "colab": {
          "base_uri": "https://localhost:8080/"
        },
        "id": "QFcxeGjJwVhi",
        "outputId": "52432a81-e761-414a-dfc2-34a047eae65a"
      },
      "execution_count": 4,
      "outputs": [
        {
          "output_type": "stream",
          "name": "stdout",
          "text": [
            "enter the number of the element:5\n",
            "enter the elements:6\n",
            "enter the elements:3\n",
            "enter the elements:7\n",
            "enter the elements:2\n",
            "enter the elements:9\n",
            "[2, 6, 7, 3, 9]\n",
            "[2, 3, 7, 6, 9]\n",
            "[2, 3, 6, 7, 9]\n",
            "[2, 3, 6, 7, 9]\n",
            "sorted list\n",
            "[2, 3, 6, 7, 9]\n"
          ]
        }
      ]
    },
    {
      "cell_type": "code",
      "source": [
        "#sort a list asc and desc order from a list taken from user using loop\n",
        "\n",
        "my_list=[]\n",
        "size=int(input(\"enter the number of total element:\"))\n",
        "for i in range(0,size):\n",
        "  elem=int(input(\"enter the numbers:\"))\n",
        "  my_list.append(elem)\n",
        "\n",
        "print(\"list in ascending order\", sorted(my_list))\n",
        "print(\"list in ascending order\", sorted(my_list, reverse=True))"
      ],
      "metadata": {
        "colab": {
          "base_uri": "https://localhost:8080/"
        },
        "id": "09b0YHUK8pAg",
        "outputId": "b1b6744e-57db-47a1-e910-6caa964831a4"
      },
      "execution_count": 5,
      "outputs": [
        {
          "output_type": "stream",
          "name": "stdout",
          "text": [
            "enter the number of total element:5\n",
            "enter the numbers:6\n",
            "enter the numbers:3\n",
            "enter the numbers:7\n",
            "enter the numbers:2\n",
            "enter the numbers:9\n",
            "list in ascending order [2, 3, 6, 7, 9]\n",
            "list in ascending order [9, 7, 6, 3, 2]\n"
          ]
        }
      ]
    }
  ]
}